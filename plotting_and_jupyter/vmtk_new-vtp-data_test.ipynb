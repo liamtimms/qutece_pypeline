{
 "cells": [
  {
   "cell_type": "code",
   "execution_count": 1,
   "id": "biblical-wayne",
   "metadata": {},
   "outputs": [],
   "source": [
    "import os\n",
    "import numpy as np\n",
    "import pandas as pd\n",
    "import matplotlib\n",
    "import matplotlib.pyplot as plt\n",
    "import seaborn as sns\n",
    "from mpl_toolkits.mplot3d import Axes3D\n",
    "from vmtk import pypes\n",
    "from vmtk import vmtkscripts\n",
    "\n",
    "\n",
    "base_dir = os.path.abspath('/media/tianyi/data/Analysis/DCM2BIDS5/')\n",
    "vtp_dir = os.path.join(base_dir, 'derivatives', 'manualwork', 'segmentations', 'veins_superficial', 'SSS-LTS-RTS')\n",
    "output_dir = os.path.join(base_dir, 'derivatives', 'manualwork', 'vmtk_superficial-veins', 'vtp-from-Slicer')\n"
   ]
  },
  {
   "cell_type": "code",
   "execution_count": 2,
   "id": "korean-blowing",
   "metadata": {},
   "outputs": [
    {
     "name": "stdout",
     "output_type": "stream",
     "text": [
      "Reading VTK XML surface file.\n",
      "wrapping vtkPolyData object\n",
      "converting cell data: \n",
      "converting points\n",
      "converting point data: \n",
      "Radius\n",
      "EdgeArray\n",
      "EdgePCoordArray\n",
      "converting cell connectivity list\n"
     ]
    }
   ],
   "source": [
    "vtp\n",
    "# centerline reading\n",
    "centerlineReader = vmtkscripts.vmtkSurfaceReader()\n",
    "centerlineReader.InputFileName = outCenterline\n",
    "centerlineReader.Execute()\n",
    "clNumpyAdaptor = vmtkscripts.vmtkCenterlinesToNumpy()\n",
    "clNumpyAdaptor.Centerlines = centerlineReader.Surface\n",
    "clNumpyAdaptor.Execute()\n",
    "numpyCenterlines = clNumpyAdaptor.ArrayDict"
   ]
  },
  {
   "cell_type": "code",
   "execution_count": 4,
   "id": "identified-layout",
   "metadata": {},
   "outputs": [],
   "source": [
    "def centerline_extractor(outCenterline):\n",
    "\n",
    "    # centerline reading\n",
    "    centerlineReader = vmtkscripts.vmtkSurfaceReader()\n",
    "    centerlineReader.InputFileName = outCenterline\n",
    "    centerlineReader.Execute()\n",
    "    clNumpyAdaptor = vmtkscripts.vmtkCenterlinesToNumpy()\n",
    "    clNumpyAdaptor.Centerlines = centerlineReader.Surface\n",
    "    clNumpyAdaptor.Execute()\n",
    "    numpyCenterlines = clNumpyAdaptor.ArrayDict\n",
    "\n",
    "    points = numpyCenterlines['Points']\n",
    "    pointsIds = np.arange(len(points))\n",
    "    radius = numpyCenterlines['PointData']['MaximumInscribedSphereRadius']\n",
    "    segPointIds = numpyCenterlines['CellData']['CellPointIds']\n",
    "    numSegments = len(segPointIds)\n",
    "\n",
    "    frames = []\n",
    "    for segId in range(numSegments):\n",
    "        segment = segPointIds[segId]\n",
    "        segData = pd.DataFrame({'pointId':segment,'segId':segId*np.ones(len(segment), dtype=int),'x':points[segment,0],'y':points[segment,1],'z':points[segment,2],'radius':radius[segment]})\n",
    "        frames.append(segData)    \n",
    "    CenterlineData = pd.concat(frames)\n",
    "\n",
    "\n",
    "    for segId in range(numSegments):\n",
    "        segment = CenterlineData[CenterlineData['segId'] == segId]\n",
    "\n",
    "        x = np.array(segment['x'])\n",
    "        y = np.array(segment['y'])\n",
    "        z = np.array(segment['z'])\n",
    "\n",
    "        diff_x = np.diff(x)\n",
    "        diff_y = np.diff(y)\n",
    "        diff_z = np.diff(z)\n",
    "\n",
    "        steplength = np.sqrt(np.square(diff_x) + np.square(diff_y) + np.square(diff_z))\n",
    "        distance = np.cumsum(steplength)\n",
    "        distance = np.insert(distance,0,0)\n",
    "\n",
    "        CenterlineData.loc[CenterlineData['segId'] == segId, 'distance'] = distance\n",
    "\n",
    "    CenterlineData['diameter'] = 2 * CenterlineData['radius']\n",
    "\n",
    "    return CenterlineData"
   ]
  },
  {
   "cell_type": "code",
   "execution_count": 5,
   "id": "technical-georgia",
   "metadata": {},
   "outputs": [
    {
     "name": "stdout",
     "output_type": "stream",
     "text": [
      "Reading VTK XML surface file.\n",
      "wrapping vtkPolyData object\n",
      "converting cell data: \n",
      "converting points\n",
      "converting point data: \n",
      "Radius\n",
      "EdgeArray\n",
      "EdgePCoordArray\n",
      "converting cell connectivity list\n"
     ]
    },
    {
     "ename": "TypeError",
     "evalue": "unhashable type: 'numpy.ndarray'",
     "output_type": "error",
     "traceback": [
      "\u001b[0;31m---------------------------------------------------------------------------\u001b[0m",
      "\u001b[0;31mTypeError\u001b[0m                                 Traceback (most recent call last)",
      "\u001b[0;32m<ipython-input-5-7324708295d2>\u001b[0m in \u001b[0;36m<module>\u001b[0;34m\u001b[0m\n\u001b[0;32m----> 1\u001b[0;31m \u001b[0mcenterline_df\u001b[0m \u001b[0;34m=\u001b[0m \u001b[0mcenterline_extractor\u001b[0m\u001b[0;34m(\u001b[0m\u001b[0mvtp_fn\u001b[0m\u001b[0;34m)\u001b[0m\u001b[0;34m\u001b[0m\u001b[0m\n\u001b[0m",
      "\u001b[0;32m<ipython-input-4-95618f270fb5>\u001b[0m in \u001b[0;36mcenterline_extractor\u001b[0;34m(outCenterline)\u001b[0m\n\u001b[1;32m     19\u001b[0m     \u001b[0;32mfor\u001b[0m \u001b[0msegId\u001b[0m \u001b[0;32min\u001b[0m \u001b[0mrange\u001b[0m\u001b[0;34m(\u001b[0m\u001b[0mnumSegments\u001b[0m\u001b[0;34m)\u001b[0m\u001b[0;34m:\u001b[0m\u001b[0;34m\u001b[0m\u001b[0m\n\u001b[1;32m     20\u001b[0m         \u001b[0msegment\u001b[0m \u001b[0;34m=\u001b[0m \u001b[0msegPointIds\u001b[0m\u001b[0;34m[\u001b[0m\u001b[0msegId\u001b[0m\u001b[0;34m]\u001b[0m\u001b[0;34m\u001b[0m\u001b[0m\n\u001b[0;32m---> 21\u001b[0;31m         \u001b[0msegData\u001b[0m \u001b[0;34m=\u001b[0m \u001b[0mpd\u001b[0m\u001b[0;34m.\u001b[0m\u001b[0mDataFrame\u001b[0m\u001b[0;34m(\u001b[0m\u001b[0;34m{\u001b[0m\u001b[0;34m'pointId'\u001b[0m\u001b[0;34m:\u001b[0m\u001b[0msegment\u001b[0m\u001b[0;34m,\u001b[0m\u001b[0;34m'segId'\u001b[0m\u001b[0;34m:\u001b[0m\u001b[0msegId\u001b[0m\u001b[0;34m*\u001b[0m\u001b[0mnp\u001b[0m\u001b[0;34m.\u001b[0m\u001b[0mones\u001b[0m\u001b[0;34m(\u001b[0m\u001b[0mlen\u001b[0m\u001b[0;34m(\u001b[0m\u001b[0msegment\u001b[0m\u001b[0;34m)\u001b[0m\u001b[0;34m,\u001b[0m \u001b[0mdtype\u001b[0m\u001b[0;34m=\u001b[0m\u001b[0mint\u001b[0m\u001b[0;34m)\u001b[0m\u001b[0;34m,\u001b[0m\u001b[0;34m'x'\u001b[0m\u001b[0;34m:\u001b[0m\u001b[0mpoints\u001b[0m\u001b[0;34m[\u001b[0m\u001b[0msegment\u001b[0m\u001b[0;34m,\u001b[0m\u001b[0;36m0\u001b[0m\u001b[0;34m]\u001b[0m\u001b[0;34m,\u001b[0m\u001b[0;34m'y'\u001b[0m\u001b[0;34m:\u001b[0m\u001b[0mpoints\u001b[0m\u001b[0;34m[\u001b[0m\u001b[0msegment\u001b[0m\u001b[0;34m,\u001b[0m\u001b[0;36m1\u001b[0m\u001b[0;34m]\u001b[0m\u001b[0;34m,\u001b[0m\u001b[0;34m'z'\u001b[0m\u001b[0;34m:\u001b[0m\u001b[0mpoints\u001b[0m\u001b[0;34m[\u001b[0m\u001b[0msegment\u001b[0m\u001b[0;34m,\u001b[0m\u001b[0;36m2\u001b[0m\u001b[0;34m]\u001b[0m\u001b[0;34m,\u001b[0m\u001b[0;34m'radius'\u001b[0m\u001b[0;34m:\u001b[0m\u001b[0mradius\u001b[0m\u001b[0;34m[\u001b[0m\u001b[0msegment\u001b[0m\u001b[0;34m]\u001b[0m\u001b[0;34m}\u001b[0m\u001b[0;34m)\u001b[0m\u001b[0;34m\u001b[0m\u001b[0m\n\u001b[0m\u001b[1;32m     22\u001b[0m         \u001b[0mframes\u001b[0m\u001b[0;34m.\u001b[0m\u001b[0mappend\u001b[0m\u001b[0;34m(\u001b[0m\u001b[0msegData\u001b[0m\u001b[0;34m)\u001b[0m\u001b[0;34m\u001b[0m\u001b[0m\n\u001b[1;32m     23\u001b[0m     \u001b[0mCenterlineData\u001b[0m \u001b[0;34m=\u001b[0m \u001b[0mpd\u001b[0m\u001b[0;34m.\u001b[0m\u001b[0mconcat\u001b[0m\u001b[0;34m(\u001b[0m\u001b[0mframes\u001b[0m\u001b[0;34m)\u001b[0m\u001b[0;34m\u001b[0m\u001b[0m\n",
      "\u001b[0;31mTypeError\u001b[0m: unhashable type: 'numpy.ndarray'"
     ]
    }
   ],
   "source": [
    "centerline_df = centerline_extractor(vtp_fn)"
   ]
  },
  {
   "cell_type": "code",
   "execution_count": null,
   "id": "sophisticated-character",
   "metadata": {},
   "outputs": [],
   "source": []
  }
 ],
 "metadata": {
  "kernelspec": {
   "display_name": "vmtk",
   "language": "python",
   "name": "vmtk"
  },
  "language_info": {
   "codemirror_mode": {
    "name": "ipython",
    "version": 3
   },
   "file_extension": ".py",
   "mimetype": "text/x-python",
   "name": "python",
   "nbconvert_exporter": "python",
   "pygments_lexer": "ipython3",
   "version": "3.6.1"
  }
 },
 "nbformat": 4,
 "nbformat_minor": 5
}
